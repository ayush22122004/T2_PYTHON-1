{
 "cells": [
  {
   "cell_type": "markdown",
   "metadata": {},
   "source": [
    "ch-5\n",
    "List Methods:\n",
    "append()\n",
    "extend()\n",
    "insert()\n",
    "remove()\n",
    "pop()\n",
    "clear()\n",
    "index()\n",
    "count()\n",
    "sort()\n",
    "reverse()\n",
    "copy()"
   ]
  },
  {
   "cell_type": "code",
   "execution_count": 1,
   "metadata": {},
   "outputs": [
    {
     "name": "stdout",
     "output_type": "stream",
     "text": [
      "[100, 2, 3, 4]\n"
     ]
    }
   ],
   "source": [
    "x=[1,2,3,4]\n",
    "x[0]=100\n",
    "print(x)"
   ]
  },
  {
   "cell_type": "code",
   "execution_count": 6,
   "metadata": {},
   "outputs": [
    {
     "data": {
      "text/plain": [
       "140703959492416"
      ]
     },
     "execution_count": 6,
     "metadata": {},
     "output_type": "execute_result"
    }
   ],
   "source": [
    "x=[1,2,3,4]\n",
    "id(x[0])\n",
    "id(x[1])"
   ]
  },
  {
   "cell_type": "code",
   "execution_count": 8,
   "metadata": {},
   "outputs": [
    {
     "name": "stdout",
     "output_type": "stream",
     "text": [
      "[1, 2, 'Hello']\n"
     ]
    }
   ],
   "source": [
    "x=[1,2,3]\n",
    "x[2]=\"Hello\"\n",
    "print(x)"
   ]
  },
  {
   "cell_type": "code",
   "execution_count": 11,
   "metadata": {},
   "outputs": [],
   "source": [
    "x=[1,2,3]\n",
    "x[2]=\"Hello\"\n",
    "del(x)"
   ]
  },
  {
   "cell_type": "code",
   "execution_count": 15,
   "metadata": {},
   "outputs": [
    {
     "name": "stdout",
     "output_type": "stream",
     "text": [
      "[1, 2, 3, [1, 2, 3]]\n"
     ]
    }
   ],
   "source": [
    "x=[1,2,3,[1,2,3]]\n",
    "print(x)"
   ]
  },
  {
   "cell_type": "code",
   "execution_count": 18,
   "metadata": {},
   "outputs": [
    {
     "name": "stdout",
     "output_type": "stream",
     "text": [
      "[4, 5, 1, 2, 9]\n"
     ]
    }
   ],
   "source": [
    "x=[4,5,1,2,9]\n",
    "sorted(x)#=[1,2,4,5,9]\n",
    "print(x)"
   ]
  },
  {
   "cell_type": "code",
   "execution_count": 19,
   "metadata": {},
   "outputs": [
    {
     "name": "stdout",
     "output_type": "stream",
     "text": [
      "[1, 2, 3, 4, 5]\n"
     ]
    }
   ],
   "source": [
    "x=[1,2,3]\n",
    "y=[4,5]\n",
    "print(x+y)"
   ]
  },
  {
   "cell_type": "code",
   "execution_count": 24,
   "metadata": {},
   "outputs": [
    {
     "name": "stdout",
     "output_type": "stream",
     "text": [
      "[1, 2, 3]\n",
      "4\n",
      "[]\n"
     ]
    },
    {
     "data": {
      "text/plain": [
       "4"
      ]
     },
     "execution_count": 24,
     "metadata": {},
     "output_type": "execute_result"
    }
   ],
   "source": [
    "x=[1,2,3,4]\n",
    "print(x[0:3])\n",
    "print(x[-1])\n",
    "print(x[-1:-3])\n",
    "\n",
    "x.pop()\n",
    "y=\"a\"\n",
    "print()"
   ]
  },
  {
   "cell_type": "code",
   "execution_count": 26,
   "metadata": {},
   "outputs": [
    {
     "data": {
      "text/plain": [
       "'a'"
      ]
     },
     "execution_count": 26,
     "metadata": {},
     "output_type": "execute_result"
    }
   ],
   "source": [
    "chr(97)"
   ]
  },
  {
   "cell_type": "code",
   "execution_count": 31,
   "metadata": {},
   "outputs": [
    {
     "data": {
      "text/plain": [
       "'OMLHW'"
      ]
     },
     "execution_count": 31,
     "metadata": {},
     "output_type": "execute_result"
    }
   ],
   "source": [
    "## incryption\n",
    "# my=\"ljiet\"\n",
    "# intab='a,b,c,d,e,f,g,h,i,j,k,l,m,n,o,p,q,r,s,t,u,v,w,x,y,z'\n",
    "# outtab='d,e,f,g,h,i,j,k,l,m,n,o,p,q,r,s,t,u,v,w,x,y,z,a,b,c'\n",
    "# table=my.maketrans(intab,outtab)\n",
    "# print(my.translate(table))\n",
    "# ORRRRRRRRRRRRRRRRRRRRRRRRRRRRRRRRRRRRRR\n",
    "\n",
    "def encrypt(key,message):\n",
    "    message=message.upper()\n",
    "    alpha='ABCDEFGHIJKLMNOPQRSTUVWXYZ'\n",
    "    result=\"\"\n",
    "    for letter in message:\n",
    "        if letter in alpha:\n",
    "            letter_index=(alpha.find(letter)+key)%len(alpha)\n",
    "            result=result+alpha[letter_index]\n",
    "        else:\n",
    "            result=result+letter\n",
    "    return result\n",
    "\n",
    "encrypt(3,'ljiet')\n",
    "    "
   ]
  },
  {
   "cell_type": "code",
   "execution_count": 42,
   "metadata": {},
   "outputs": [],
   "source": [
    "# wap to shift decimal digits to left \n",
    "def qb(message,shift):\n",
    "    length=len(message)\n",
    "    if shift==5:\n",
    "        print(message)\n",
    "    elif shift>5:\n",
    "        print(message.reverse())\n",
    "    elif shift<=5:\n",
    "        print(message[shift:length+1],end='')\n",
    "        print(message[0:shift])\n",
    "            \n"
   ]
  },
  {
   "cell_type": "code",
   "execution_count": 45,
   "metadata": {},
   "outputs": [
    {
     "name": "stdout",
     "output_type": "stream",
     "text": [
      "enter a number4\n",
      "51234\n"
     ]
    }
   ],
   "source": [
    "message=\"12345\"\n",
    "shift=int(input(\"enter a number\"))\n",
    "qb(message,shift)"
   ]
  },
  {
   "cell_type": "code",
   "execution_count": null,
   "metadata": {},
   "outputs": [],
   "source": []
  }
 ],
 "metadata": {
  "kernelspec": {
   "display_name": "Python 3",
   "language": "python",
   "name": "python3"
  },
  "language_info": {
   "codemirror_mode": {
    "name": "ipython",
    "version": 3
   },
   "file_extension": ".py",
   "mimetype": "text/x-python",
   "name": "python",
   "nbconvert_exporter": "python",
   "pygments_lexer": "ipython3",
   "version": "3.8.5"
  }
 },
 "nbformat": 4,
 "nbformat_minor": 4
}
