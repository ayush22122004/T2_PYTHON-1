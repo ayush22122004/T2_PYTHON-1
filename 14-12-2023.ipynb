{
 "cells": [
  {
   "cell_type": "markdown",
   "metadata": {},
   "source": [
    "Dictionary(Mapping):"
   ]
  },
  {
   "cell_type": "code",
   "execution_count": 2,
   "metadata": {},
   "outputs": [
    {
     "data": {
      "text/plain": [
       "dict"
      ]
     },
     "execution_count": 2,
     "metadata": {},
     "output_type": "execute_result"
    }
   ],
   "source": [
    "d={}\n",
    "type(d)"
   ]
  },
  {
   "cell_type": "code",
   "execution_count": 3,
   "metadata": {},
   "outputs": [
    {
     "data": {
      "text/plain": [
       "set"
      ]
     },
     "execution_count": 3,
     "metadata": {},
     "output_type": "execute_result"
    }
   ],
   "source": [
    "d={6}\n",
    "type(d)"
   ]
  },
  {
   "cell_type": "code",
   "execution_count": 17,
   "metadata": {},
   "outputs": [
    {
     "name": "stdout",
     "output_type": "stream",
     "text": [
      "1\n",
      "{'a': 1, 'e': 2, 'i': 3, 'o': 4, 'f': 20}\n",
      "{'a': 10, 'e': 2, 'i': 3, 'o': 4, 'f': 20}\n"
     ]
    }
   ],
   "source": [
    "d={'a':1,'e':2,'i':3,'o':4}\n",
    "d['f']=20\n",
    "print(d['a'])\n",
    "print(d)\n",
    "d['a']=10\n",
    "print(d)"
   ]
  },
  {
   "cell_type": "code",
   "execution_count": 19,
   "metadata": {},
   "outputs": [
    {
     "name": "stdout",
     "output_type": "stream",
     "text": [
      "['a', 'e', 'i', 'o']\n",
      "{'a': 1, 'e': 2, 'i': 3, 'o': 4}\n"
     ]
    }
   ],
   "source": [
    "d={'a':1,'e':2,'i':3,'o':4}\n",
    "print(sorted(d))\n",
    "print(d)"
   ]
  },
  {
   "cell_type": "code",
   "execution_count": 20,
   "metadata": {},
   "outputs": [
    {
     "name": "stdout",
     "output_type": "stream",
     "text": [
      "{}\n"
     ]
    }
   ],
   "source": [
    "d={'a':1,'e':2,'i':3,'o':4}\n",
    "d.clear()\n",
    "print(d)"
   ]
  },
  {
   "cell_type": "code",
   "execution_count": 22,
   "metadata": {},
   "outputs": [
    {
     "name": "stdout",
     "output_type": "stream",
     "text": [
      "{'a': 1, 'e': 2, 'i': 3, 'o': 4}\n",
      "{'a': 1, 'e': 2, 'i': 3, 'o': 4}\n"
     ]
    }
   ],
   "source": [
    "d={'a':1,'e':2,'i':3,'o':4}\n",
    "d1=d.copy()\n",
    "print(d1)\n",
    "d['a']=10\n",
    "print(d1)"
   ]
  },
  {
   "cell_type": "code",
   "execution_count": 28,
   "metadata": {},
   "outputs": [
    {
     "name": "stdout",
     "output_type": "stream",
     "text": [
      "{1: 50, 2: 50, 3: 50}\n"
     ]
    }
   ],
   "source": [
    "d={}\n",
    "seq=[1,2,3]\n",
    "d1=d.fromkeys(seq,50)\n",
    "print(d1)"
   ]
  },
  {
   "cell_type": "code",
   "execution_count": 30,
   "metadata": {},
   "outputs": [
    {
     "data": {
      "text/plain": [
       "1"
      ]
     },
     "execution_count": 30,
     "metadata": {},
     "output_type": "execute_result"
    }
   ],
   "source": [
    "d={'a':1,'e':2,'i':3,'o':4}\n",
    "d.get('a','value nathi')"
   ]
  },
  {
   "cell_type": "code",
   "execution_count": 31,
   "metadata": {},
   "outputs": [
    {
     "data": {
      "text/plain": [
       "'value nathi'"
      ]
     },
     "execution_count": 31,
     "metadata": {},
     "output_type": "execute_result"
    }
   ],
   "source": [
    "d={'a':1,'e':2,'i':3,'o':4}\n",
    "d.get('z','value nathi')"
   ]
  },
  {
   "cell_type": "code",
   "execution_count": 35,
   "metadata": {},
   "outputs": [
    {
     "name": "stdout",
     "output_type": "stream",
     "text": [
      "dict_keys(['a', 'e', 'i', 'o'])\n",
      "dict_values([1, 2, 3, 4])\n",
      "dict_items([('a', 1), ('e', 2), ('i', 3), ('o', 4)])\n"
     ]
    }
   ],
   "source": [
    "d={'a':1,'e':2,'i':3,'o':4}\n",
    "print(d.keys())\n",
    "print(d.values())\n",
    "print(d.items())"
   ]
  },
  {
   "cell_type": "code",
   "execution_count": 37,
   "metadata": {},
   "outputs": [
    {
     "name": "stdout",
     "output_type": "stream",
     "text": [
      "Variable   Type    Data/Info\n",
      "----------------------------\n",
      "d          dict    n=4\n",
      "d1         dict    n=3\n",
      "seq        list    n=3\n"
     ]
    }
   ],
   "source": [
    "whos"
   ]
  },
  {
   "cell_type": "code",
   "execution_count": 41,
   "metadata": {},
   "outputs": [
    {
     "name": "stdout",
     "output_type": "stream",
     "text": [
      "None\n",
      "{1: 50, 2: 50, 3: 50, 'a': 1, 'e': 2, 'i': 3, 'o': 4}\n",
      "{'a': 1, 'e': 2, 'i': 3, 'o': 4}\n"
     ]
    }
   ],
   "source": [
    "d={'a':1,'e':2,'i':3,'o':4}\n",
    "print(d1.update(d))\n",
    "print(d1)\n",
    "print(d)"
   ]
  },
  {
   "cell_type": "markdown",
   "metadata": {},
   "source": [
    "Itration:"
   ]
  },
  {
   "cell_type": "code",
   "execution_count": 42,
   "metadata": {},
   "outputs": [
    {
     "name": "stdout",
     "output_type": "stream",
     "text": [
      "a 1\n",
      "e 2\n",
      "i 3\n",
      "o 4\n"
     ]
    }
   ],
   "source": [
    "d={'a':1,'e':2,'i':3,'o':4}\n",
    "for key,value in d.items():\n",
    "    print(key,value)"
   ]
  },
  {
   "cell_type": "code",
   "execution_count": 50,
   "metadata": {},
   "outputs": [
    {
     "name": "stdout",
     "output_type": "stream",
     "text": [
      "Enter key1\n",
      "Enter key2\n",
      "Enter key3\n",
      "{1: 1, 2: 4, 3: 9}\n"
     ]
    }
   ],
   "source": [
    "d={}\n",
    "for i in range(3):\n",
    "    key=int(input(\"Enter key\"))\n",
    "    d[key]=key**2\n",
    "print(d)"
   ]
  },
  {
   "cell_type": "code",
   "execution_count": 52,
   "metadata": {},
   "outputs": [
    {
     "name": "stdout",
     "output_type": "stream",
     "text": [
      "{0: 0, 1: 1, 2: 4, 3: 9, 4: 16, 5: 25}\n"
     ]
    }
   ],
   "source": [
    "square={x:x*x for x in range(6)}\n",
    "print(square)"
   ]
  },
  {
   "cell_type": "markdown",
   "metadata": {},
   "source": [
    "Set:"
   ]
  },
  {
   "cell_type": "code",
   "execution_count": 61,
   "metadata": {},
   "outputs": [
    {
     "name": "stdout",
     "output_type": "stream",
     "text": [
      "{8, 1, 3, 9}\n"
     ]
    },
    {
     "data": {
      "text/plain": [
       "set"
      ]
     },
     "execution_count": 61,
     "metadata": {},
     "output_type": "execute_result"
    }
   ],
   "source": [
    "a=[1,3,3,9,8]\n",
    "b=set(a)\n",
    "print(b)\n",
    "type(b)\n"
   ]
  },
  {
   "cell_type": "code",
   "execution_count": 79,
   "metadata": {},
   "outputs": [
    {
     "name": "stdout",
     "output_type": "stream",
     "text": [
      "{2, 3, 4}\n",
      "{100, 2, 3, 4}\n",
      "{100, 3, 4}\n",
      "{100, 4}\n"
     ]
    }
   ],
   "source": [
    "a=set()\n",
    "a.update([2,3,4])\n",
    "print(a)\n",
    "a.add(100)\n",
    "print(a)\n",
    "a.remove(2)#if not available it will give you an error\n",
    "print(a)\n",
    "a.discard(3)#if not available it will not give you an error\n",
    "print(a)"
   ]
  },
  {
   "cell_type": "code",
   "execution_count": 98,
   "metadata": {},
   "outputs": [
    {
     "name": "stdout",
     "output_type": "stream",
     "text": [
      "{1, 2, 3, 4, 5}\n",
      "{3}\n",
      "{1, 2, 4}\n",
      "False\n",
      "{1, 2, 4, 5}\n"
     ]
    }
   ],
   "source": [
    "a={1,2,3,4}\n",
    "b={3,5}\n",
    "print(a.union(b))\n",
    "print(a.intersection(b))\n",
    "print(a.difference(b))\n",
    "print(a.issubset(b))\n",
    "print(a.symmetric_difference(b))"
   ]
  },
  {
   "cell_type": "markdown",
   "metadata": {},
   "source": [
    "Lambda:\n",
    "1)Map"
   ]
  },
  {
   "cell_type": "code",
   "execution_count": 116,
   "metadata": {},
   "outputs": [
    {
     "name": "stdout",
     "output_type": "stream",
     "text": [
      "[False, True, False, True, False, True]\n"
     ]
    }
   ],
   "source": [
    "num=[1,2,3,4,5,6]\n",
    "squares=list(map(lambda x:x%2==0,num))\n",
    "print(squares)\n"
   ]
  },
  {
   "cell_type": "markdown",
   "metadata": {},
   "source": [
    "2)Filter:It returns an iterator from the elements of iterable for which the function returns true\n"
   ]
  },
  {
   "cell_type": "code",
   "execution_count": 114,
   "metadata": {},
   "outputs": [
    {
     "name": "stdout",
     "output_type": "stream",
     "text": [
      "[2, 4, 6]\n"
     ]
    }
   ],
   "source": [
    "num=[1,2,3,4,5,6]\n",
    "squares=list(filter(lambda x:x%2==0,num))\n",
    "print(squares)"
   ]
  },
  {
   "cell_type": "code",
   "execution_count": null,
   "metadata": {},
   "outputs": [],
   "source": [
    ":)  😂😁😁"
   ]
  }
 ],
 "metadata": {
  "kernelspec": {
   "display_name": "Python 3",
   "language": "python",
   "name": "python3"
  },
  "language_info": {
   "codemirror_mode": {
    "name": "ipython",
    "version": 3
   },
   "file_extension": ".py",
   "mimetype": "text/x-python",
   "name": "python",
   "nbconvert_exporter": "python",
   "pygments_lexer": "ipython3",
   "version": "3.8.5"
  }
 },
 "nbformat": 4,
 "nbformat_minor": 4
}
